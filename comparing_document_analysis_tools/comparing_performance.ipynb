{
 "cells": [
  {
   "cell_type": "markdown",
   "metadata": {},
   "source": [
    "# Experiment Report Notebook\n",
    "\n",
    "This notebook summarizes the experiments conducted to compare various Python libraries for processing DOCX files.\n",
    "\n",
    "\n",
    "\n",
    "## Section 1: Introduction\n",
    "In this notebook, we will:\n",
    "1. Provide an overview of the libraries tested.\n",
    "2. Benchmark their performance in extracting information from DOCX files.\n",
    "    - Time performance\n",
    "    - Extraction quality performance\n",
    "3. Visualize the results and draw comparisons.\n",
    "4. Summarize findings and highlight the strengths and weaknesses of each library.\n",
    "    - Analyze library integrations with frameworks such as LangChain.\n",
    "\n",
    "We summarize below the libraries that are tested in thisn  notebook:\n",
    "\n",
    "### Overview of Libraries\n",
    "| Library                   | DOCX Conversion Engine | Conversion to Markdown | Conversion to HTML | Integration with LangChain | Price                  |\n",
    "|---------------------------|-------------------------|-------------------------|--------------------|---------------------------|-----------------------|\n",
    "| **[Unstructured](https://unstructured.io/)**          | python-docx            | ✅                     | ❌                | ✅                       | Free Tier             |\n",
    "| **[Pymupdf](https://pymupdf.readthedocs.io/en/latest/)**               | MuPDF (commercial add-on) | ❌                      | ❌                 | ❌                        | Requires Pro version  |\n",
    "| **[MarkItDown](https://github.com/microsoft/markitdown)**            | python-docx            | ✅                     | ❌                 | 🤔 (LLMs only)           | Free                  |\n",
    "| **[Docling](https://github.com/DS4SD/docling)**               | python-docx            | ✅                     | ✅                | ✅                       | Free                  |\n",
    "| **[Everything2Markdown](https://github.com/wisupai/e2m)**   | Internal parser        | ✅                     | ❌                 | ❌                        | Free                  |\n",
    "| **[PyPandoc](https://github.com/JessicaTegner/pypandoc)**              | pandoc                 | ✅                     | ✅                | ❌                        | Free                  |\n",
    "| **[docx2txt](https://github.com/ankushshah89/python-docx2txt)**              | Internal parser (xml2text-based)        | ✅                     | ❌                 | ❌                        | Free                  |\n",
    "| **[docxpy](https://github.com/badbye/docxpy)**                | Internal parser  (xml2text-based)      | ✅                     | ❌                 | ❌                        | Free                  |\n"
   ]
  },
  {
   "cell_type": "code",
   "execution_count": 18,
   "metadata": {},
   "outputs": [],
   "source": [
    "import time\n",
    "import glob\n",
    "import matplotlib.pyplot as plt\n",
    "import pypandoc\n",
    "import docx2txt\n",
    "import docxpy\n",
    "from docx import Document\n",
    "\n",
    "from unstructured.partition.docx import partition_docx as unstructured_partition\n",
    "from langchain_community.document_loaders.word_document import (\n",
    "    UnstructuredWordDocumentLoader,\n",
    "    Docx2txtLoader,\n",
    "    )\n",
    "from markitdown import MarkItDown\n",
    "from wisup_e2m import DocxParser\n",
    "from docling.document_converter import DocumentConverter\n",
    "from langchain_docling import DoclingLoader\n",
    "\n",
    "from langchain_docling.loader import ExportType\n"
   ]
  },
  {
   "cell_type": "code",
   "execution_count": 19,
   "metadata": {},
   "outputs": [],
   "source": [
    "from unstructured.partition.docx import partition_docx\n",
    "\n",
    "import ssl\n",
    "import urllib.request\n",
    "\n",
    "#######\n",
    "### ONLY FOR TESTING PURPOSES! ! ! !  NEVER IN PROD\n",
    "ssl._create_default_https_context = ssl._create_unverified_context\n"
   ]
  },
  {
   "cell_type": "code",
   "execution_count": 20,
   "metadata": {},
   "outputs": [
    {
     "name": "stdout",
     "output_type": "stream",
     "text": [
      "PyMuPDFPro: Trial Mode, 58 days 12 hours left.\n"
     ]
    }
   ],
   "source": [
    "from glob import glob\n",
    "import os\n",
    "from dotenv import load_dotenv\n",
    "\n",
    "load_dotenv()  # Load .env file\n",
    "import pymupdf.pro\n",
    "pymupdf.pro.unlock(os.getenv('PYMUPDF_KEY'))\n",
    "\n",
    "DOCX_FILES = glob('./data/docx/*')\n",
    "GROUND_TRUTH = glob('./data/ground_truth/*')\n",
    "\n",
    "\n",
    "# Organize the list of files making sure that the same file names are in the same index\n",
    "DOCX_FILES.sort()\n",
    "GROUND_TRUTH.sort()"
   ]
  },
  {
   "cell_type": "markdown",
   "metadata": {},
   "source": [
    "## Section 2 - Time comparison"
   ]
  },
  {
   "cell_type": "code",
   "execution_count": 21,
   "metadata": {},
   "outputs": [],
   "source": [
    "# PyPanDoc\n",
    "\n",
    "def process_with_pypandoc_md(file):\n",
    "    return pypandoc.convert_file(file, 'markdown')\n",
    "\n",
    "def process_with_pypandoc_html(file):\n",
    "    return pypandoc.convert_file(file, 'html')\n",
    "\n",
    "# PyMUPDF\n",
    "import pymupdf4llm\n",
    "def process_with_pymupdf_md(file):\n",
    "    return pymupdf4llm.to_markdown(file)\n",
    "\n",
    "from langchain_community.document_loaders import PyMuPDFLoader\n",
    "def process_with_pymupdf_langchain(file):\n",
    "    loader = PyMuPDFLoader(file)\n",
    "    return loader.load()\n",
    "\n",
    "# MarkItDown\n",
    "def process_with_markitdown_md(file):\n",
    "    md = MarkItDown()\n",
    "    return md.convert(file)\n",
    "\n",
    "# Docling\n",
    "def process_with_docling_md(file):\n",
    "    converter = DocumentConverter()\n",
    "    docling_docx = converter.convert(file)\n",
    "    return docling_docx.document.export_to_markdown()\n",
    "\n",
    "def process_with_docling_html(file):\n",
    "    converter = DocumentConverter()\n",
    "    docling_docx = converter.convert(file)\n",
    "    return docling_docx.document.export_to_html()\n",
    "\n",
    "def process_with_docling_langchain(file):\n",
    "    loader = DoclingLoader(file_path=file, export_type=ExportType.HTML)\n",
    "    return loader.load()\n",
    "\n",
    "# Wisup E2M\n",
    "\n",
    "def process_with_wisup_e2m_pandoc(file):\n",
    "    parser = DocxParser(engine=\"pandoc\") # docx engines: pandoc, xml\n",
    "    docx_data = parser.parse(file)\n",
    "    return docx_data.text\n",
    "\n",
    "def process_with_wisup_e2m_xml(file):\n",
    "    parser = DocxParser(engine=\"xml\") # docx engines: pandoc, xml\n",
    "    docx_data = parser.parse(file)\n",
    "    return docx_data.text\n",
    "\n",
    "# unstructured\n",
    "def process_with_unstructured_md(file):\n",
    "    return partition_docx(filename=file)\n",
    "\n",
    "def process_with_unstructured_langchain(file):\n",
    "    loader = UnstructuredWordDocumentLoader(file)\n",
    "    return loader.load()\n",
    "\n",
    "#docx2txt loader\n",
    "\n",
    "def process_with_docx2txt_langchain(file):\n",
    "    loader = Docx2txtLoader(file)\n",
    "    return loader.load()\n",
    "\n",
    "def process_with_docx2txt(file):\n",
    "    return docx2txt.process(file)\n",
    "\n",
    "# docxpy\n",
    "def process_with_docxpy(file):\n",
    "    # if you want the hyperlinks\n",
    "    doc = docxpy.DOCReader(file)\n",
    "    return doc.process()  # process file"
   ]
  },
  {
   "cell_type": "code",
   "execution_count": 22,
   "metadata": {},
   "outputs": [],
   "source": [
    "def benchmark_library(library_function):\n",
    "    \"\"\"\n",
    "    Benchmark a library function\n",
    "    \"\"\"\n",
    "    start_time = time.time()\n",
    "    for file in DOCX_FILES:\n",
    "        library_function(file)\n",
    "    return time.time() - start_time\n"
   ]
  },
  {
   "cell_type": "code",
   "execution_count": 23,
   "metadata": {},
   "outputs": [
    {
     "ename": "AttributeError",
     "evalue": "'ConversionResult' object has no attribute 'export_to_markdown'",
     "output_type": "error",
     "traceback": [
      "\u001b[0;31m---------------------------------------------------------------------------\u001b[0m",
      "\u001b[0;31mAttributeError\u001b[0m                            Traceback (most recent call last)",
      "Cell \u001b[0;32mIn[23], line 4\u001b[0m\n\u001b[1;32m      1\u001b[0m \u001b[38;5;66;03m# Measure performance.\u001b[39;00m\n\u001b[1;32m      2\u001b[0m library_timings \u001b[38;5;241m=\u001b[39m {\n\u001b[1;32m      3\u001b[0m     \u001b[38;5;124m\"\u001b[39m\u001b[38;5;124mconvert_to_markdown\u001b[39m\u001b[38;5;124m\"\u001b[39m:{\n\u001b[0;32m----> 4\u001b[0m     \u001b[38;5;124m\"\u001b[39m\u001b[38;5;124mDocling\u001b[39m\u001b[38;5;124m\"\u001b[39m: \u001b[43mbenchmark_library\u001b[49m\u001b[43m(\u001b[49m\u001b[43mprocess_with_docling_md\u001b[49m\u001b[43m)\u001b[49m,\n\u001b[1;32m      5\u001b[0m     \u001b[38;5;124m\"\u001b[39m\u001b[38;5;124mUnstructured\u001b[39m\u001b[38;5;124m\"\u001b[39m: benchmark_library(process_with_unstructured_md),\n\u001b[1;32m      6\u001b[0m     \u001b[38;5;124m\"\u001b[39m\u001b[38;5;124mMarkItDown\u001b[39m\u001b[38;5;124m\"\u001b[39m: benchmark_library(process_with_markitdown_md),\n\u001b[1;32m      7\u001b[0m     \u001b[38;5;124m\"\u001b[39m\u001b[38;5;124mEverything2Markdown_pandoc\u001b[39m\u001b[38;5;124m\"\u001b[39m: benchmark_library(process_with_wisup_e2m_pandoc),\n\u001b[1;32m      8\u001b[0m     \u001b[38;5;124m\"\u001b[39m\u001b[38;5;124mEverything2Markdown_xml\u001b[39m\u001b[38;5;124m\"\u001b[39m: benchmark_library(process_with_wisup_e2m_xml),\n\u001b[1;32m      9\u001b[0m     \u001b[38;5;124m\"\u001b[39m\u001b[38;5;124mPyPandoc\u001b[39m\u001b[38;5;124m\"\u001b[39m: benchmark_library(process_with_pypandoc_md),\n\u001b[1;32m     10\u001b[0m     \u001b[38;5;124m\"\u001b[39m\u001b[38;5;124mPyMuPDF\u001b[39m\u001b[38;5;124m\"\u001b[39m: benchmark_library(process_with_pymupdf_md),\n\u001b[1;32m     11\u001b[0m     \u001b[38;5;124m\"\u001b[39m\u001b[38;5;124mDocx2txt\u001b[39m\u001b[38;5;124m\"\u001b[39m: benchmark_library(process_with_docx2txt),\n\u001b[1;32m     12\u001b[0m     \u001b[38;5;124m\"\u001b[39m\u001b[38;5;124mDocxpy\u001b[39m\u001b[38;5;124m\"\u001b[39m: benchmark_library(process_with_docxpy),\n\u001b[1;32m     13\u001b[0m     },\n\u001b[1;32m     14\u001b[0m     \u001b[38;5;124m\"\u001b[39m\u001b[38;5;124mconvert_to_html\u001b[39m\u001b[38;5;124m\"\u001b[39m:{\n\u001b[1;32m     15\u001b[0m     \u001b[38;5;124m\"\u001b[39m\u001b[38;5;124mDocling\u001b[39m\u001b[38;5;124m\"\u001b[39m: benchmark_library(process_with_docling_html),\n\u001b[1;32m     16\u001b[0m     \u001b[38;5;124m\"\u001b[39m\u001b[38;5;124mPyPandoc\u001b[39m\u001b[38;5;124m\"\u001b[39m: benchmark_library(process_with_pypandoc_html),\n\u001b[1;32m     17\u001b[0m     },\n\u001b[1;32m     18\u001b[0m     \u001b[38;5;124m\"\u001b[39m\u001b[38;5;124mlangchain_loaders\u001b[39m\u001b[38;5;124m\"\u001b[39m:{\n\u001b[1;32m     19\u001b[0m     \u001b[38;5;124m\"\u001b[39m\u001b[38;5;124mDocling\u001b[39m\u001b[38;5;124m\"\u001b[39m: benchmark_library(process_with_docling_langchain),\n\u001b[1;32m     20\u001b[0m     \u001b[38;5;124m\"\u001b[39m\u001b[38;5;124mUnstructured\u001b[39m\u001b[38;5;124m\"\u001b[39m: benchmark_library(process_with_unstructured_langchain),\n\u001b[1;32m     21\u001b[0m     \u001b[38;5;124m\"\u001b[39m\u001b[38;5;124mDocx2txt\u001b[39m\u001b[38;5;124m\"\u001b[39m: benchmark_library(process_with_docx2txt_langchain),\n\u001b[1;32m     22\u001b[0m     \u001b[38;5;124m\"\u001b[39m\u001b[38;5;124mPyMuPDF\u001b[39m\u001b[38;5;124m\"\u001b[39m: benchmark_library(process_with_pymupdf_langchain),\n\u001b[1;32m     23\u001b[0m     },\n\u001b[1;32m     24\u001b[0m     \n\u001b[1;32m     25\u001b[0m }\n",
      "Cell \u001b[0;32mIn[22], line 7\u001b[0m, in \u001b[0;36mbenchmark_library\u001b[0;34m(library_function)\u001b[0m\n\u001b[1;32m      5\u001b[0m start_time \u001b[38;5;241m=\u001b[39m time\u001b[38;5;241m.\u001b[39mtime()\n\u001b[1;32m      6\u001b[0m \u001b[38;5;28;01mfor\u001b[39;00m file \u001b[38;5;129;01min\u001b[39;00m DOCX_FILES:\n\u001b[0;32m----> 7\u001b[0m     \u001b[43mlibrary_function\u001b[49m\u001b[43m(\u001b[49m\u001b[43mfile\u001b[49m\u001b[43m)\u001b[49m\n\u001b[1;32m      8\u001b[0m \u001b[38;5;28;01mreturn\u001b[39;00m time\u001b[38;5;241m.\u001b[39mtime() \u001b[38;5;241m-\u001b[39m start_time\n",
      "Cell \u001b[0;32mIn[21], line 28\u001b[0m, in \u001b[0;36mprocess_with_docling_md\u001b[0;34m(file)\u001b[0m\n\u001b[1;32m     26\u001b[0m converter \u001b[38;5;241m=\u001b[39m DocumentConverter()\n\u001b[1;32m     27\u001b[0m docling_docx \u001b[38;5;241m=\u001b[39m converter\u001b[38;5;241m.\u001b[39mconvert(file)\n\u001b[0;32m---> 28\u001b[0m \u001b[38;5;28;01mreturn\u001b[39;00m \u001b[43mdocling_docx\u001b[49m\u001b[38;5;241;43m.\u001b[39;49m\u001b[43mexport_to_markdown\u001b[49m()\n",
      "File \u001b[0;32m~/PycharmProjects/python-playground/.venv/lib/python3.11/site-packages/pydantic/main.py:891\u001b[0m, in \u001b[0;36mBaseModel.__getattr__\u001b[0;34m(self, item)\u001b[0m\n\u001b[1;32m    888\u001b[0m     \u001b[38;5;28;01mreturn\u001b[39;00m \u001b[38;5;28msuper\u001b[39m()\u001b[38;5;241m.\u001b[39m\u001b[38;5;21m__getattribute__\u001b[39m(item)  \u001b[38;5;66;03m# Raises AttributeError if appropriate\u001b[39;00m\n\u001b[1;32m    889\u001b[0m \u001b[38;5;28;01melse\u001b[39;00m:\n\u001b[1;32m    890\u001b[0m     \u001b[38;5;66;03m# this is the current error\u001b[39;00m\n\u001b[0;32m--> 891\u001b[0m     \u001b[38;5;28;01mraise\u001b[39;00m \u001b[38;5;167;01mAttributeError\u001b[39;00m(\u001b[38;5;124mf\u001b[39m\u001b[38;5;124m'\u001b[39m\u001b[38;5;132;01m{\u001b[39;00m\u001b[38;5;28mtype\u001b[39m(\u001b[38;5;28mself\u001b[39m)\u001b[38;5;241m.\u001b[39m\u001b[38;5;18m__name__\u001b[39m\u001b[38;5;132;01m!r}\u001b[39;00m\u001b[38;5;124m object has no attribute \u001b[39m\u001b[38;5;132;01m{\u001b[39;00mitem\u001b[38;5;132;01m!r}\u001b[39;00m\u001b[38;5;124m'\u001b[39m)\n",
      "\u001b[0;31mAttributeError\u001b[0m: 'ConversionResult' object has no attribute 'export_to_markdown'"
     ]
    }
   ],
   "source": [
    "# Measure performance.\n",
    "library_timings = {\n",
    "    \"convert_to_markdown\":{\n",
    "    \"Docling\": benchmark_library(process_with_docling_md),\n",
    "    \"Unstructured\": benchmark_library(process_with_unstructured_md),\n",
    "    \"MarkItDown\": benchmark_library(process_with_markitdown_md),\n",
    "    \"Everything2Markdown_pandoc\": benchmark_library(process_with_wisup_e2m_pandoc),\n",
    "    \"Everything2Markdown_xml\": benchmark_library(process_with_wisup_e2m_xml),\n",
    "    \"PyPandoc\": benchmark_library(process_with_pypandoc_md),\n",
    "    \"PyMuPDF\": benchmark_library(process_with_pymupdf_md),\n",
    "    \"Docx2txt\": benchmark_library(process_with_docx2txt),\n",
    "    \"Docxpy\": benchmark_library(process_with_docxpy),\n",
    "    },\n",
    "    \"convert_to_html\":{\n",
    "    \"Docling\": benchmark_library(process_with_docling_html),\n",
    "    \"PyPandoc\": benchmark_library(process_with_pypandoc_html),\n",
    "    },\n",
    "    \"langchain_loaders\":{\n",
    "    \"Docling\": benchmark_library(process_with_docling_langchain),\n",
    "    \"Unstructured\": benchmark_library(process_with_unstructured_langchain),\n",
    "    \"Docx2txt\": benchmark_library(process_with_docx2txt_langchain),\n",
    "    \"PyMuPDF\": benchmark_library(process_with_pymupdf_langchain),\n",
    "    },\n",
    "    \n",
    "}"
   ]
  },
  {
   "cell_type": "code",
   "execution_count": null,
   "metadata": {},
   "outputs": [],
   "source": []
  }
 ],
 "metadata": {
  "kernelspec": {
   "display_name": ".venv",
   "language": "python",
   "name": "python3"
  },
  "language_info": {
   "codemirror_mode": {
    "name": "ipython",
    "version": 3
   },
   "file_extension": ".py",
   "mimetype": "text/x-python",
   "name": "python",
   "nbconvert_exporter": "python",
   "pygments_lexer": "ipython3",
   "version": "3.11.9"
  }
 },
 "nbformat": 4,
 "nbformat_minor": 2
}
