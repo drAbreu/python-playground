{
 "cells": [
  {
   "cell_type": "markdown",
   "metadata": {},
   "source": [
    "# Comparison of ETL document analyzer libraries for Python\n",
    "\n",
    "The tools that take place in this analysis are the ones listed below.\n",
    "\n",
    "* **Fully commercial tools**\n",
    "    - [Reducto.ai](https://reducto.ai/)\n",
    "    - [Extend](https://www.extend.app/)\n",
    "* **Comercial tools with free tier**\n",
    "    - [Unstructured](https://unstructured.io/)\n",
    "    - [Datalab](https://www.datalab.to/) \n",
    "    - [Marker](https://github.com/VikParuchuri/marker) \n",
    "* **Full open-source tools**\n",
    "    - [Pymupdf](https://pymupdf.readthedocs.io/en/latest/)\n",
    "    - [MarkItDown](https://github.com/microsoft/markitdown)\n",
    "    - [Docling](https://github.com/DS4SD/docling)\n",
    "    - [Everything2Markdown](https://github.com/wisupai/e2m)\n",
    "\n",
    "\n",
    "The analysis will be working on the following criteria:\n",
    "* Price (free, paid, free tier)\n",
    "* Latency time on conversion\n",
    "* Integration with other tools (LLMs, Langchain)\n",
    "* Supported file formats\n",
    "* Accuracy of data extraction using OpenAI (`Figure legends` and `Data availability` sections)\n"
   ]
  },
  {
   "cell_type": "markdown",
   "metadata": {},
   "source": [
    "## 1. PymuPDF"
   ]
  }
 ],
 "metadata": {
  "kernelspec": {
   "display_name": "venv",
   "language": "python",
   "name": "python3"
  },
  "language_info": {
   "name": "python",
   "version": "3.9.10"
  }
 },
 "nbformat": 4,
 "nbformat_minor": 2
}
